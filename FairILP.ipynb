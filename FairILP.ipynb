{
 "cells": [
  {
   "cell_type": "code",
   "execution_count": null,
   "metadata": {},
   "outputs": [],
   "source": [
    "#%pip install -i https://pypi.gurobi.com gurobipy"
   ]
  },
  {
   "cell_type": "code",
   "execution_count": 1,
   "metadata": {},
   "outputs": [],
   "source": [
    "import gurobipy as gp\n",
    "from gurobipy import GRB\n",
    "from gurobipy import tuplelist\n",
    "import itertools  \n",
    "import random\n"
   ]
  },
  {
   "cell_type": "code",
   "execution_count": 2,
   "metadata": {},
   "outputs": [],
   "source": [
    "import pandas as pd\n",
    "\n",
    "object = pd.read_pickle(r'data/top25_dfs.pickle')"
   ]
  },
  {
   "cell_type": "code",
   "execution_count": 44,
   "metadata": {},
   "outputs": [
    {
     "data": {
      "text/plain": [
       "26"
      ]
     },
     "execution_count": 44,
     "metadata": {},
     "output_type": "execute_result"
    }
   ],
   "source": [
    "data = object[1]\n",
    "data = data.transpose()\n",
    "players = data.keys()\n",
    "len(data)"
   ]
  },
  {
   "cell_type": "code",
   "execution_count": 45,
   "metadata": {},
   "outputs": [],
   "source": [
    "l = len(players)"
   ]
  },
  {
   "cell_type": "code",
   "execution_count": 46,
   "metadata": {},
   "outputs": [],
   "source": [
    "rankDic = {}\n",
    "\n",
    "for i in range(0,25):\n",
    "    row = data.iloc[i, :]\n",
    "    for j in range(0,l):\n",
    "        rankDic[(i,players[j])] = row[j]\n",
    "    #rank_list.append(list(first_column))\n"
   ]
  },
  {
   "cell_type": "code",
   "execution_count": 47,
   "metadata": {},
   "outputs": [
    {
     "data": {
      "text/plain": [
       "Index(['Adam Thielen', 'Mike Evans', 'JuJu Smith-Schuster', 'Albert Wilson',\n",
       "       'Odell Beckham Jr.', 'Jarvis Landry', 'Courtland Sutton',\n",
       "       'Mohamed Sanu', 'Emmanuel Sanders', 'Tyler Boyd', 'Amari Cooper',\n",
       "       'Robert Woods', 'Michael Thomas', 'Marvin Jones', 'Anthony Miller',\n",
       "       'John Brown', 'Tyreek Hill', 'Julio Jones', 'Tre'Quan Smith',\n",
       "       'DeAndre Hopkins', 'Tyrell Williams', 'Dante Pettis', 'DeSean Jackson',\n",
       "       'Cooper Kupp', 'Alshon Jeffery', 'Julian Edelman', 'Josh Gordon',\n",
       "       'Donte Moncrief', 'Stefon Diggs', 'Brandin Cooks', 'Sammy Watkins',\n",
       "       'Sterling Shepard', 'Christian Kirk', 'Calvin Ridley',\n",
       "       'Larry Fitzgerald', 'Corey Davis', 'Curtis Samuel', 'Robby Anderson',\n",
       "       'Allen Robinson', 'DaeSean Hamilton', 'Davante Adams', 'Dede Westbrook',\n",
       "       'Marquez Valdes-Scantling', 'Will Fuller', 'T.Y. Hilton',\n",
       "       'Geronimo Allison', 'Cole Beasley', 'Michael Gallup', 'Chris Godwin',\n",
       "       'Tyler Lockett', 'Jamison Crowder', 'Keenan Allen', 'D.J. Moore',\n",
       "       'Mike Williams', 'Kenny Golladay'],\n",
       "      dtype='object')"
      ]
     },
     "execution_count": 47,
     "metadata": {},
     "output_type": "execute_result"
    }
   ],
   "source": [
    "itemList = data.keys()\n",
    "itemList = itemList[0:l]\n",
    "itemList"
   ]
  },
  {
   "cell_type": "code",
   "execution_count": 48,
   "metadata": {},
   "outputs": [],
   "source": [
    "Groups = [0,1]\n",
    "numGrp = len(Groups)\n",
    "\n",
    "G = []\n",
    "CG = []\n",
    "for i in range(0,numGrp):\n",
    "    g  = []\n",
    "    G.append(g)\n",
    "    cg = []\n",
    "    CG.append(cg)\n",
    "    \n",
    "row = data.iloc[25, :]\n",
    "for i in range(0,len(row)):\n",
    "    G[row[i]].append(players[i])\n",
    "    \n",
    "\n",
    "for i in range(0,numGrp):  \n",
    "    for j in range(0,numGrp):\n",
    "        if i != j :\n",
    "            CG[i].extend(G[j]) "
   ]
  },
  {
   "cell_type": "code",
   "execution_count": 49,
   "metadata": {},
   "outputs": [],
   "source": [
    "p = []\n",
    "for i in range(0,len(G)):\n",
    "    pi = len(G[i])/len(itemList)\n",
    "    p.append(pi)\n"
   ]
  },
  {
   "cell_type": "code",
   "execution_count": null,
   "metadata": {},
   "outputs": [],
   "source": []
  },
  {
   "cell_type": "code",
   "execution_count": 50,
   "metadata": {},
   "outputs": [
    {
     "data": {
      "text/plain": [
       "[0.45454545454545453, 0.5454545454545454]"
      ]
     },
     "execution_count": 50,
     "metadata": {},
     "output_type": "execute_result"
    }
   ],
   "source": [
    "p"
   ]
  },
  {
   "cell_type": "code",
   "execution_count": 51,
   "metadata": {},
   "outputs": [],
   "source": [
    "\n",
    "d = [0, 0, 0,0]"
   ]
  },
  {
   "cell_type": "code",
   "execution_count": 52,
   "metadata": {},
   "outputs": [
    {
     "data": {
      "text/plain": [
       "3025"
      ]
     },
     "execution_count": 52,
     "metadata": {},
     "output_type": "execute_result"
    }
   ],
   "source": [
    "combinations = [p for p in itertools.product(itemList, repeat=2)]\n",
    "len(combinations)"
   ]
  },
  {
   "cell_type": "code",
   "execution_count": 53,
   "metadata": {},
   "outputs": [],
   "source": [
    "scores = []\n",
    "for tup in combinations:\n",
    "    x,y = tup\n",
    "    v = 0\n",
    "    for i in range(0,25):\n",
    "        if rankDic[(i,x)] < rankDic[(i,y)]:\n",
    "            v = v +  1\n",
    "    scores.append(v)"
   ]
  },
  {
   "cell_type": "code",
   "execution_count": 54,
   "metadata": {},
   "outputs": [],
   "source": [
    "\n",
    "res = dict(zip(combinations, scores)) \n",
    "\n",
    "combinations, scores = gp.multidict(res)"
   ]
  },
  {
   "cell_type": "code",
   "execution_count": null,
   "metadata": {},
   "outputs": [],
   "source": []
  },
  {
   "cell_type": "code",
   "execution_count": 55,
   "metadata": {},
   "outputs": [],
   "source": [
    "# Declare and initialize model\n",
    "m = gp.Model('RAP')"
   ]
  },
  {
   "cell_type": "code",
   "execution_count": 56,
   "metadata": {},
   "outputs": [],
   "source": [
    "# Create decision variables for the RAP model\n",
    "x = m.addVars(combinations,vtype=GRB.BINARY,name='x')"
   ]
  },
  {
   "cell_type": "code",
   "execution_count": null,
   "metadata": {},
   "outputs": [],
   "source": []
  },
  {
   "cell_type": "code",
   "execution_count": 57,
   "metadata": {},
   "outputs": [],
   "source": [
    "# Create  constraints\n",
    "con = m.addConstrs((x[i,i] == 0  for i in itemList ), name='c0')"
   ]
  },
  {
   "cell_type": "code",
   "execution_count": 58,
   "metadata": {},
   "outputs": [],
   "source": [
    "# Create  constraints\n",
    "con = m.addConstrs((x[i,j] + x[j,i]  == 1   for j in itemList for i in itemList if i != j), name='c1')"
   ]
  },
  {
   "cell_type": "code",
   "execution_count": 59,
   "metadata": {},
   "outputs": [],
   "source": [
    "# Create  constraints\n",
    "con = m.addConstrs((x[i,j] + x[j,k] + x[k,i]  >= 1 for j in itemList for i in itemList for k in itemList if (i!= j and j!= k and k != i)), name='c2')"
   ]
  },
  {
   "cell_type": "code",
   "execution_count": 60,
   "metadata": {},
   "outputs": [],
   "source": [
    "numGrp = 2\n",
    "Groups = [0,1]"
   ]
  },
  {
   "cell_type": "code",
   "execution_count": 61,
   "metadata": {},
   "outputs": [],
   "source": [
    "a = m.addVars(2,numGrp, name=\"a\")"
   ]
  },
  {
   "cell_type": "code",
   "execution_count": 62,
   "metadata": {},
   "outputs": [
    {
     "data": {
      "text/plain": [
       "{0: <gurobi.Constr *Awaiting Model Update*>,\n",
       " 1: <gurobi.Constr *Awaiting Model Update*>}"
      ]
     },
     "execution_count": 62,
     "metadata": {},
     "output_type": "execute_result"
    }
   ],
   "source": [
    "m.addConstrs( a[0,k] == (gp.quicksum(x[i, j] for i in G[k] for j   in  CG[k]) - gp.quicksum(x[j, i] for i in G[k] for j  in CG[k])) for k in Groups)"
   ]
  },
  {
   "cell_type": "code",
   "execution_count": 63,
   "metadata": {},
   "outputs": [
    {
     "data": {
      "text/plain": [
       "{0: <gurobi.GenConstr *Awaiting Model Update*>,\n",
       " 1: <gurobi.GenConstr *Awaiting Model Update*>}"
      ]
     },
     "execution_count": 63,
     "metadata": {},
     "output_type": "execute_result"
    }
   ],
   "source": [
    "m.addConstrs(a[1,k] == gp.abs_(a[0,k]) for k in Groups )"
   ]
  },
  {
   "cell_type": "code",
   "execution_count": 64,
   "metadata": {},
   "outputs": [],
   "source": [
    "con = m.addConstrs( (a[1,k] <=  d[k]  for k in Groups ) ,name='cfair1')"
   ]
  },
  {
   "cell_type": "code",
   "execution_count": 65,
   "metadata": {},
   "outputs": [],
   "source": [
    "# Objective: maximize total matching score of all assignments\n",
    "m.setObjective(x.prod(scores), GRB.MINIMIZE)"
   ]
  },
  {
   "cell_type": "code",
   "execution_count": 66,
   "metadata": {},
   "outputs": [
    {
     "name": "stdout",
     "output_type": "stream",
     "text": [
      "Warning: variable name \"x[Adam Thielen,Adam Thielen]\" has a space\n",
      "Warning: constraint name \"c0[Adam Thielen]\" has a space\n",
      "Warning: to let Gurobi read it back, use rlp format\n"
     ]
    }
   ],
   "source": [
    "# Save model for inspection\n",
    "m.write('RAP.lp')"
   ]
  },
  {
   "cell_type": "code",
   "execution_count": 67,
   "metadata": {},
   "outputs": [
    {
     "name": "stdout",
     "output_type": "stream",
     "text": [
      "Gurobi Optimizer version 9.1.1 build v9.1.1rc0 (win64)\n",
      "Thread count: 6 physical cores, 12 logical processors, using up to 12 threads\n",
      "Optimize a model with 160439 rows, 3029 columns and 481229 nonzeros\n",
      "Model fingerprint: 0x3ec3e3d9\n",
      "Model has 2 general constraints\n",
      "Variable types: 4 continuous, 3025 integer (3025 binary)\n",
      "Coefficient statistics:\n",
      "  Matrix range     [1e+00, 1e+00]\n",
      "  Objective range  [1e+00, 3e+01]\n",
      "  Bounds range     [1e+00, 1e+00]\n",
      "  RHS range        [1e+00, 1e+00]\n",
      "Presolve removed 107968 rows and 1544 columns\n",
      "Presolve time: 0.60s\n",
      "Presolved: 52471 rows, 1485 columns, 158160 nonzeros\n",
      "Variable types: 0 continuous, 1485 integer (1485 binary)\n",
      "Found heuristic solution: objective 11225.000000\n",
      "\n",
      "Root relaxation: objective 2.437000e+03, 21 iterations, 0.12 seconds\n",
      "\n",
      "    Nodes    |    Current Node    |     Objective Bounds      |     Work\n",
      " Expl Unexpl |  Obj  Depth IntInf | Incumbent    BestBd   Gap | It/Node Time\n",
      "\n",
      "     0     0 2437.00000    0    2 11225.0000 2437.00000  78.3%     -    0s\n",
      "H    0     0                    2437.0000000 2437.00000  0.00%     -    0s\n",
      "     0     0 2437.00000    0    2 2437.00000 2437.00000  0.00%     -    0s\n",
      "\n",
      "Explored 1 nodes (21 simplex iterations) in 0.94 seconds\n",
      "Thread count was 12 (of 12 available processors)\n",
      "\n",
      "Solution count 2: 2437 11225 \n",
      "\n",
      "Optimal solution found (tolerance 1.00e-04)\n",
      "Best objective 2.437000000000e+03, best bound 2.437000000000e+03, gap 0.0000%\n"
     ]
    }
   ],
   "source": [
    "# Run optimization engine\n",
    "m.optimize()"
   ]
  },
  {
   "cell_type": "code",
   "execution_count": null,
   "metadata": {},
   "outputs": [],
   "source": [
    "\n"
   ]
  },
  {
   "cell_type": "code",
   "execution_count": 68,
   "metadata": {},
   "outputs": [],
   "source": [
    "# Display optimal values of decision variables\n",
    "i = 0\n",
    "s = 0\n",
    "scoredict = {}\n",
    "for v in m.getVars():\n",
    "   \n",
    "    i = i + 1\n",
    "    s = s + v.x\n",
    "    #print(v.varName, v.x)\n",
    "    if i % len(itemList) == 0:\n",
    "        #print(i / len(itemList))\n",
    "        g = 0\n",
    "        if (row[int(i / len(itemList)) - 1] == 1):\n",
    "            g = 1\n",
    "        scoredict[itemList[int(i / len(itemList)) - 1]] = (s,g)\n",
    "        s = 0 \n",
    "\n",
    "# Display optimal total matching score\n",
    "#print('Total matching score: ', m.objVal)"
   ]
  },
  {
   "cell_type": "code",
   "execution_count": 69,
   "metadata": {},
   "outputs": [
    {
     "data": {
      "text/plain": [
       "{'Adam Thielen': (9.0, 1),\n",
       " 'Mike Evans': (4.0, 1),\n",
       " 'JuJu Smith-Schuster': (3.0, 0),\n",
       " 'Albert Wilson': (49.0, 0),\n",
       " 'Odell Beckham Jr.': (0.0, 0),\n",
       " 'Jarvis Landry': (29.0, 0),\n",
       " 'Courtland Sutton': (38.0, 0),\n",
       " 'Mohamed Sanu': (50.0, 0),\n",
       " 'Emmanuel Sanders': (47.0, 1),\n",
       " 'Tyler Boyd': (17.0, 0),\n",
       " 'Amari Cooper': (14.0, 1),\n",
       " 'Robert Woods': (18.0, 1),\n",
       " 'Michael Thomas': (2.0, 1),\n",
       " 'Marvin Jones': (28.0, 1),\n",
       " 'Anthony Miller': (51.0, 1),\n",
       " 'John Brown': (41.0, 0),\n",
       " 'Tyreek Hill': (6.0, 0),\n",
       " 'Julio Jones': (8.0, 1),\n",
       " \"Tre'Quan Smith\": (53.0, 1),\n",
       " 'DeAndre Hopkins': (1.0, 1),\n",
       " 'Tyrell Williams': (32.0, 0),\n",
       " 'Dante Pettis': (35.0, 1),\n",
       " 'DeSean Jackson': (40.0, 1),\n",
       " 'Cooper Kupp': (20.0, 1),\n",
       " 'Alshon Jeffery': (25.0, 1),\n",
       " 'Julian Edelman': (11.0, 0),\n",
       " 'Josh Gordon': (21.0, 0),\n",
       " 'Donte Moncrief': (43.0, 0),\n",
       " 'Stefon Diggs': (12.0, 0),\n",
       " 'Brandin Cooks': (10.0, 0),\n",
       " 'Sammy Watkins': (31.0, 0),\n",
       " 'Sterling Shepard': (33.0, 1),\n",
       " 'Christian Kirk': (39.0, 1),\n",
       " 'Calvin Ridley': (30.0, 1),\n",
       " 'Larry Fitzgerald': (42.0, 1),\n",
       " 'Corey Davis': (34.0, 0),\n",
       " 'Curtis Samuel': (36.0, 1),\n",
       " 'Robby Anderson': (37.0, 1),\n",
       " 'Allen Robinson': (24.0, 1),\n",
       " 'DaeSean Hamilton': (54.0, 0),\n",
       " 'Davante Adams': (5.0, 1),\n",
       " 'Dede Westbrook': (23.0, 0),\n",
       " 'Marquez Valdes-Scantling': (48.0, 1),\n",
       " 'Will Fuller': (26.0, 0),\n",
       " 'T.Y. Hilton': (19.0, 0),\n",
       " 'Geronimo Allison': (46.0, 1),\n",
       " 'Cole Beasley': (52.0, 0),\n",
       " 'Michael Gallup': (44.0, 1),\n",
       " 'Chris Godwin': (16.0, 1),\n",
       " 'Tyler Lockett': (13.0, 1),\n",
       " 'Jamison Crowder': (45.0, 0),\n",
       " 'Keenan Allen': (7.0, 0),\n",
       " 'D.J. Moore': (27.0, 1),\n",
       " 'Mike Williams': (22.0, 0),\n",
       " 'Kenny Golladay': (15.0, 1)}"
      ]
     },
     "execution_count": 69,
     "metadata": {},
     "output_type": "execute_result"
    }
   ],
   "source": [
    "scoredict"
   ]
  },
  {
   "cell_type": "code",
   "execution_count": 70,
   "metadata": {},
   "outputs": [],
   "source": [
    "detOut = []\n",
    "group = []\n",
    "for j in range(0,len(itemList)):\n",
    "    detOut.append(0)\n",
    "    group.append(0)\n",
    "\n",
    "i = 0\n",
    "\n",
    "for item in scoredict.items():\n",
    "    detOut[int(item[1][0])] = i\n",
    "    group[int(item[1][0])] = int(item[1][1])\n",
    "    i = i + 1"
   ]
  },
  {
   "cell_type": "code",
   "execution_count": 71,
   "metadata": {},
   "outputs": [
    {
     "name": "stdout",
     "output_type": "stream",
     "text": [
      "Odell Beckham Jr. (0.0, 0)\n",
      "DeAndre Hopkins (1.0, 1)\n",
      "Michael Thomas (2.0, 1)\n",
      "JuJu Smith-Schuster (3.0, 0)\n",
      "Mike Evans (4.0, 1)\n",
      "Davante Adams (5.0, 1)\n",
      "Tyreek Hill (6.0, 0)\n",
      "Keenan Allen (7.0, 0)\n",
      "Julio Jones (8.0, 1)\n",
      "Adam Thielen (9.0, 1)\n",
      "Brandin Cooks (10.0, 0)\n",
      "Julian Edelman (11.0, 0)\n",
      "Stefon Diggs (12.0, 0)\n",
      "Tyler Lockett (13.0, 1)\n",
      "Amari Cooper (14.0, 1)\n",
      "Kenny Golladay (15.0, 1)\n",
      "Chris Godwin (16.0, 1)\n",
      "Tyler Boyd (17.0, 0)\n",
      "Robert Woods (18.0, 1)\n",
      "T.Y. Hilton (19.0, 0)\n",
      "Cooper Kupp (20.0, 1)\n",
      "Josh Gordon (21.0, 0)\n",
      "Mike Williams (22.0, 0)\n",
      "Dede Westbrook (23.0, 0)\n",
      "Allen Robinson (24.0, 1)\n",
      "Alshon Jeffery (25.0, 1)\n",
      "Will Fuller (26.0, 0)\n",
      "D.J. Moore (27.0, 1)\n",
      "Marvin Jones (28.0, 1)\n",
      "Jarvis Landry (29.0, 0)\n",
      "Calvin Ridley (30.0, 1)\n",
      "Sammy Watkins (31.0, 0)\n",
      "Tyrell Williams (32.0, 0)\n",
      "Sterling Shepard (33.0, 1)\n",
      "Corey Davis (34.0, 0)\n",
      "Dante Pettis (35.0, 1)\n",
      "Curtis Samuel (36.0, 1)\n",
      "Robby Anderson (37.0, 1)\n",
      "Courtland Sutton (38.0, 0)\n",
      "Christian Kirk (39.0, 1)\n",
      "DeSean Jackson (40.0, 1)\n",
      "John Brown (41.0, 0)\n",
      "Larry Fitzgerald (42.0, 1)\n",
      "Donte Moncrief (43.0, 0)\n",
      "Michael Gallup (44.0, 1)\n",
      "Jamison Crowder (45.0, 0)\n",
      "Geronimo Allison (46.0, 1)\n",
      "Emmanuel Sanders (47.0, 1)\n",
      "Marquez Valdes-Scantling (48.0, 1)\n",
      "Albert Wilson (49.0, 0)\n",
      "Mohamed Sanu (50.0, 0)\n",
      "Anthony Miller (51.0, 1)\n",
      "Cole Beasley (52.0, 0)\n",
      "Tre'Quan Smith (53.0, 1)\n",
      "DaeSean Hamilton (54.0, 0)\n"
     ]
    }
   ],
   "source": [
    "for w in sorted(scoredict, key=scoredict.get, reverse=False):\n",
    "    print(w, scoredict[w])"
   ]
  },
  {
   "cell_type": "code",
   "execution_count": null,
   "metadata": {},
   "outputs": [],
   "source": []
  },
  {
   "cell_type": "code",
   "execution_count": null,
   "metadata": {},
   "outputs": [],
   "source": []
  },
  {
   "cell_type": "code",
   "execution_count": null,
   "metadata": {},
   "outputs": [],
   "source": []
  },
  {
   "cell_type": "code",
   "execution_count": null,
   "metadata": {},
   "outputs": [],
   "source": []
  }
 ],
 "metadata": {
  "kernelspec": {
   "display_name": "Python 3",
   "language": "python",
   "name": "python3"
  },
  "language_info": {
   "codemirror_mode": {
    "name": "ipython",
    "version": 3
   },
   "file_extension": ".py",
   "mimetype": "text/x-python",
   "name": "python",
   "nbconvert_exporter": "python",
   "pygments_lexer": "ipython3",
   "version": "3.7.4"
  }
 },
 "nbformat": 4,
 "nbformat_minor": 2
}
